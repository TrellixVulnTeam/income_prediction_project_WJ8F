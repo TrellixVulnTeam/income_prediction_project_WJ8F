{
 "cells": [
  {
   "cell_type": "code",
   "execution_count": null,
   "metadata": {},
   "outputs": [],
   "source": []
  }
 ],
 "metadata": {
  "kernelspec": {
   "display_name": "Python 3.7.0 (conda)",
   "language": "python",
   "name": "python3"
  },
  "language_info": {
   "name": "python",
   "version": "3.7.0"
  },
  "orig_nbformat": 4,
  "vscode": {
   "interpreter": {
    "hash": "5887009bd0e0f2e59a6519f48398d468d8dae535c95a573f63b3c1fc2b708553"
   }
  }
 },
 "nbformat": 4,
 "nbformat_minor": 2
}
